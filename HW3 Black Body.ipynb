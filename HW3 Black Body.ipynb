{
 "metadata": {
  "name": "",
  "signature": "sha256:2425e2a2ae5ed7f450ee01451dc523c3c14bb0550450a35fa327914e54635d62"
 },
 "nbformat": 3,
 "nbformat_minor": 0,
 "worksheets": [
  {
   "cells": [
    {
     "cell_type": "code",
     "collapsed": false,
     "input": [
      "import numpy as np\n",
      "import matplotlib.pyplot as pl\n",
      "import astropy as ap\n",
      "%pylab inline"
     ],
     "language": "python",
     "metadata": {},
     "outputs": [
      {
       "output_type": "stream",
       "stream": "stdout",
       "text": [
        "Populating the interactive namespace from numpy and matplotlib\n"
       ]
      }
     ],
     "prompt_number": 74
    },
    {
     "cell_type": "code",
     "collapsed": false,
     "input": [
      "def BlackBodyPlot(Temperature, Radius):\n",
      "    \n",
      "    \"\"\"Temperature in Kelvin/\n",
      "    Radius in Meters/\n",
      "    Distance in Parsec's\"\"\"\n",
      "    \n",
      "    h = 6.62*10**-34. #Planck's Constant (J * s)\n",
      "    c = 3.10**8. #Speed of light (m/s)\n",
      "    k = 1.38*10**-23. #BOltzmann's constnat (J * K**-1)\n",
      "    \n",
      "    return (8 * np.pi * h) / (c**3) * ((4/3 * np.pi * Radius**3)**3) / ((np.exp(h * (4. / 3.* np.pi * Radius**3))/ (Temperature * k))-1.)"
     ],
     "language": "python",
     "metadata": {},
     "outputs": [],
     "prompt_number": 75
    },
    {
     "cell_type": "code",
     "collapsed": false,
     "input": [
      "def InverseSquareLaw(BlackBodyPlot, Radius, Distance):\n",
      "    y_1 = []\n",
      "    x = np.linspace(0., Distance, 100.)\n",
      "    \"\"\"S = intensity at surface of star (W)\n",
      "    r = radius of sphere (m)\n",
      "    d = distance to star (m)\"\"\"\n",
      "    for i in x:\n",
      "        y = BlackBodyPlot /  4. * np.pi * (x* Radius**2)\n",
      "        y_1.append(y)\n",
      "    return pl.plot(x, y_1)"
     ],
     "language": "python",
     "metadata": {},
     "outputs": [],
     "prompt_number": 84
    },
    {
     "cell_type": "code",
     "collapsed": false,
     "input": [
      "InverseSquareLaw(BlackBodyPlot(5000, 5000), 5000, 500)"
     ],
     "language": "python",
     "metadata": {},
     "outputs": [
      {
       "metadata": {},
       "output_type": "pyout",
       "prompt_number": 85,
       "text": [
        "[<matplotlib.lines.Line2D at 0x266d0978>,\n",
        " <matplotlib.lines.Line2D at 0x266d0ba8>,\n",
        " <matplotlib.lines.Line2D at 0x266d0da0>,\n",
        " <matplotlib.lines.Line2D at 0x266d0f28>,\n",
        " <matplotlib.lines.Line2D at 0x266d50f0>,\n",
        " <matplotlib.lines.Line2D at 0x266d5278>,\n",
        " <matplotlib.lines.Line2D at 0x266d5400>,\n",
        " <matplotlib.lines.Line2D at 0x266bd198>,\n",
        " <matplotlib.lines.Line2D at 0x266d5710>,\n",
        " <matplotlib.lines.Line2D at 0x266d5898>,\n",
        " <matplotlib.lines.Line2D at 0x266d5a20>,\n",
        " <matplotlib.lines.Line2D at 0x266d5ba8>,\n",
        " <matplotlib.lines.Line2D at 0x266d5d30>,\n",
        " <matplotlib.lines.Line2D at 0x266d5eb8>,\n",
        " <matplotlib.lines.Line2D at 0x266d5588>,\n",
        " <matplotlib.lines.Line2D at 0x266d6208>,\n",
        " <matplotlib.lines.Line2D at 0x266d6390>,\n",
        " <matplotlib.lines.Line2D at 0x266d6518>,\n",
        " <matplotlib.lines.Line2D at 0x266d66a0>,\n",
        " <matplotlib.lines.Line2D at 0x266d6828>,\n",
        " <matplotlib.lines.Line2D at 0x266d69b0>,\n",
        " <matplotlib.lines.Line2D at 0x266d6080>,\n",
        " <matplotlib.lines.Line2D at 0x266d6cc0>,\n",
        " <matplotlib.lines.Line2D at 0x266d6e48>,\n",
        " <matplotlib.lines.Line2D at 0x266d6fd0>,\n",
        " <matplotlib.lines.Line2D at 0x266d8198>,\n",
        " <matplotlib.lines.Line2D at 0x266d8320>,\n",
        " <matplotlib.lines.Line2D at 0x266d84a8>,\n",
        " <matplotlib.lines.Line2D at 0x266d6b38>,\n",
        " <matplotlib.lines.Line2D at 0x266d87b8>,\n",
        " <matplotlib.lines.Line2D at 0x266d8940>,\n",
        " <matplotlib.lines.Line2D at 0x266d8ac8>,\n",
        " <matplotlib.lines.Line2D at 0x266d8c50>,\n",
        " <matplotlib.lines.Line2D at 0x266d8dd8>,\n",
        " <matplotlib.lines.Line2D at 0x266d8f60>,\n",
        " <matplotlib.lines.Line2D at 0x266d8630>,\n",
        " <matplotlib.lines.Line2D at 0x266db2b0>,\n",
        " <matplotlib.lines.Line2D at 0x266db438>,\n",
        " <matplotlib.lines.Line2D at 0x266db5c0>,\n",
        " <matplotlib.lines.Line2D at 0x266db748>,\n",
        " <matplotlib.lines.Line2D at 0x266db8d0>,\n",
        " <matplotlib.lines.Line2D at 0x266dba58>,\n",
        " <matplotlib.lines.Line2D at 0x266db128>,\n",
        " <matplotlib.lines.Line2D at 0x266dbd68>,\n",
        " <matplotlib.lines.Line2D at 0x266dbef0>,\n",
        " <matplotlib.lines.Line2D at 0x266dd0b8>,\n",
        " <matplotlib.lines.Line2D at 0x266dd240>,\n",
        " <matplotlib.lines.Line2D at 0x266dd3c8>,\n",
        " <matplotlib.lines.Line2D at 0x266dd550>,\n",
        " <matplotlib.lines.Line2D at 0x266dbbe0>,\n",
        " <matplotlib.lines.Line2D at 0x266dd860>,\n",
        " <matplotlib.lines.Line2D at 0x266dd9e8>,\n",
        " <matplotlib.lines.Line2D at 0x266ddb70>,\n",
        " <matplotlib.lines.Line2D at 0x266ddcf8>,\n",
        " <matplotlib.lines.Line2D at 0x266dde80>,\n",
        " <matplotlib.lines.Line2D at 0x23fa1048>,\n",
        " <matplotlib.lines.Line2D at 0x266dd6d8>,\n",
        " <matplotlib.lines.Line2D at 0x23fa1358>,\n",
        " <matplotlib.lines.Line2D at 0x23fa14e0>,\n",
        " <matplotlib.lines.Line2D at 0x23fa1668>,\n",
        " <matplotlib.lines.Line2D at 0x23fa17f0>,\n",
        " <matplotlib.lines.Line2D at 0x23fa1978>,\n",
        " <matplotlib.lines.Line2D at 0x23fa1b00>,\n",
        " <matplotlib.lines.Line2D at 0x23fa11d0>,\n",
        " <matplotlib.lines.Line2D at 0x23fa1e10>,\n",
        " <matplotlib.lines.Line2D at 0x23fa1f98>,\n",
        " <matplotlib.lines.Line2D at 0x23fa2160>,\n",
        " <matplotlib.lines.Line2D at 0x23fa22e8>,\n",
        " <matplotlib.lines.Line2D at 0x23fa2470>,\n",
        " <matplotlib.lines.Line2D at 0x23fa25f8>,\n",
        " <matplotlib.lines.Line2D at 0x23fa1c88>,\n",
        " <matplotlib.lines.Line2D at 0x23fa2908>,\n",
        " <matplotlib.lines.Line2D at 0x23fa2a90>,\n",
        " <matplotlib.lines.Line2D at 0x23fa2c18>,\n",
        " <matplotlib.lines.Line2D at 0x23fa2da0>,\n",
        " <matplotlib.lines.Line2D at 0x23fa2f28>,\n",
        " <matplotlib.lines.Line2D at 0x23fa50f0>,\n",
        " <matplotlib.lines.Line2D at 0x23fa2780>,\n",
        " <matplotlib.lines.Line2D at 0x23fa5400>,\n",
        " <matplotlib.lines.Line2D at 0x23fa5588>,\n",
        " <matplotlib.lines.Line2D at 0x23fa5710>,\n",
        " <matplotlib.lines.Line2D at 0x23fa5898>,\n",
        " <matplotlib.lines.Line2D at 0x23fa5a20>,\n",
        " <matplotlib.lines.Line2D at 0x23fa5ba8>,\n",
        " <matplotlib.lines.Line2D at 0x23fa5278>,\n",
        " <matplotlib.lines.Line2D at 0x23fa5eb8>,\n",
        " <matplotlib.lines.Line2D at 0x23fa6080>,\n",
        " <matplotlib.lines.Line2D at 0x23fa6208>,\n",
        " <matplotlib.lines.Line2D at 0x23fa6390>,\n",
        " <matplotlib.lines.Line2D at 0x23fa6518>,\n",
        " <matplotlib.lines.Line2D at 0x23fa66a0>,\n",
        " <matplotlib.lines.Line2D at 0x23fa5d30>,\n",
        " <matplotlib.lines.Line2D at 0x23fa69b0>,\n",
        " <matplotlib.lines.Line2D at 0x23fa6b38>,\n",
        " <matplotlib.lines.Line2D at 0x23fa6cc0>,\n",
        " <matplotlib.lines.Line2D at 0x23fa6e48>,\n",
        " <matplotlib.lines.Line2D at 0x23fa6fd0>,\n",
        " <matplotlib.lines.Line2D at 0x23fa9198>,\n",
        " <matplotlib.lines.Line2D at 0x23fa6828>,\n",
        " <matplotlib.lines.Line2D at 0x23fa94a8>]"
       ]
      },
      {
       "metadata": {},
       "output_type": "display_data",
       "png": "[encoded data removed]",
       "text": [
        "<matplotlib.figure.Figure at 0x266b04e0>"
       ]
      }
     ],
     "prompt_number": 85
    },
    {
     "cell_type": "heading",
     "level": 2,
     "metadata": {},
     "source": [
      "Unneeded Code as far as I know"
     ]
    },
    {
     "cell_type": "code",
     "collapsed": false,
     "input": [
      " def InverseSquareLawPlot(Temperature, Radius, Distance)):\n",
      "        \n",
      "        \"\"\"S = intensity at surface of star (W)\n",
      "        r = radius of sphere (m)\n",
      "        d = distance to star (m)\"\"\"\n",
      "        \n",
      "        h = 6.62*10**-34. #Planck's Constant (J * s)\n",
      "        c = 3.10**8. #Speed of light (m/s)\n",
      "        k = 1.38*10**-23. #BOltzmann's constnat (J * K**-1)\n",
      "        \n",
      "        def BlackBodyPlot(Temperature, Radius, Distance):\n",
      "    \n",
      "            \"\"\"Temperature in Kelvin/\n",
      "            Radius in Meters/\n",
      "            Distance in Parsec's\"\"\"\n",
      "            \n",
      "            return (8 * np.pi * h) / (c**3) * ((4/3 * np.pi * Radius**3)**3) / ((np.exp(h * (4. / 3.* np.pi * Radius**3))/ (Temperature * k))-1.)\n",
      "            \n",
      "        return S /  4. * np.pi * (D * r**2)"
     ],
     "language": "python",
     "metadata": {},
     "outputs": [],
     "prompt_number": 16
    },
    {
     "cell_type": "code",
     "collapsed": false,
     "input": [
      "def InverseSquareLaw(S, r, D):\n",
      "    \"\"\"S = intensity at surface of star (W)\n",
      "    r = radius of sphere (m)\n",
      "    d = distance to star (m)\"\"\"\n",
      "    return S /  4. * np.pi * (D * r**2)"
     ],
     "language": "python",
     "metadata": {},
     "outputs": [],
     "prompt_number": 14
    },
    {
     "cell_type": "code",
     "collapsed": false,
     "input": [
      "def BlackBodyPlot(Temperature, Radius, Distance):\n",
      "    \n",
      "    \"\"\"Temperature in Kelvin/\n",
      "    Radius in Meters/\n",
      "    Distance in Parsec's\"\"\"\n",
      "    \n",
      "    def InverseSquareLaw(S, r, Distance):\n",
      "        \n",
      "        \"\"\"S = intensity at surface of star (W)\n",
      "        r = radius of sphere (m)\n",
      "        d = distance to star (m)\"\"\"\n",
      "    \n",
      "        return S /  4. * np.pi * (D * r**2)\n",
      "    \n",
      "        h = 6.62*10**-34. #Planck's Constant (J * s)\n",
      "        c = 3.10**8. #Speed of light (m/s)\n",
      "        k = 1.38*10**-23. #BOltzmann's constnat (J * K**-1)\n",
      "    \n",
      "    return (8 * np.pi * h) / (c**3) * ((4/3 * np.pi * Radius**3)**3) / ((np.exp(h * (4. / 3.* np.pi * Radius**3))/ (Temperature * k))-1.)"
     ],
     "language": "python",
     "metadata": {},
     "outputs": []
    },
    {
     "cell_type": "code",
     "collapsed": false,
     "input": [
      "def BlackBodyPlot(Temperature, Radius, Distance):\n",
      "    \n",
      "    \"\"\"Temperature in Kelvin/\n",
      "    Radius in Meters/\n",
      "    Distance in Parsec's\"\"\"\n",
      "    \n",
      "    h = 6.62*10**-34. #Planck's Constant (J * s)\n",
      "    c = 3.10**8. #Speed of light (m/s)\n",
      "    k = 1.38*10**-23. #BOltzmann's constnat (J * K**-1)\n",
      "    \n",
      "    return (8 * np.pi * h) / (c**3) * ((4/3 * np.pi * Radius**3)**3) / ((np.exp(h * (4. / 3.* np.pi * Radius**3))/ (Temperature * k))-1.)"
     ],
     "language": "python",
     "metadata": {},
     "outputs": [],
     "prompt_number": 6
    },
    {
     "cell_type": "code",
     "collapsed": false,
     "input": [
      "BlackBodyPlot(5000, 2500, 1)"
     ],
     "language": "python",
     "metadata": {},
     "outputs": [
      {
       "metadata": {},
       "output_type": "pyout",
       "prompt_number": 11,
       "text": [
        "2.1886483241310412e-31"
       ]
      }
     ],
     "prompt_number": 11
    },
    {
     "cell_type": "code",
     "collapsed": false,
     "input": [
      "InverseSquareLaw(2.1886483241310412e-31, 2500, 500000)"
     ],
     "language": "python",
     "metadata": {},
     "outputs": [
      {
       "metadata": {},
       "output_type": "pyout",
       "prompt_number": 15,
       "text": [
        "5.371751169048197e-19"
       ]
      }
     ],
     "prompt_number": 15
    },
    {
     "cell_type": "raw",
     "metadata": {},
     "source": []
    },
    {
     "cell_type": "code",
     "collapsed": false,
     "input": [
      "from math import exp\n",
      "def Planck(wavelength, T):\n",
      "    # assumes wavelength has units of nanometers\n",
      "    h = 6.626068e-34 # Planck's constant [m**2 * kg / s]\n",
      "    k = 1.3806503e-23 # Boltzmann's constant [m**2 * kg / s**2 / K]\n",
      "    c = 299792458. # Speed of light [m / s]\n",
      "\n",
      "    wavelength /= 1e9 # convert from nm to m\n",
      "\n",
      "# Compute value of the Planck function and return to user\n",
      "    return 2 * h * c**2 / (wavelength**5 * (exp(h * c / wavelength / k / T) - 1))\n",
      "\n",
      "[Planck(wavelength, 7500.) for wavelength in [400, 500, 600]]\n",
      "Just to make sure we get the same answer as in tutorials 2 and 3:\n",
      "B_wavelength == [Planck(wavelength, 7500.) for wavelength in range(400, 700, 100)]\n",
      "This approach makes plotting a breeze:\n",
      "%pylab inline\n",
      "import matplotlib.pyplot as pl\n",
      "\n",
      "waves = range(400, 700, 5)\n",
      "pl.plot(waves, [Planck(wave, 5000.) for wave in waves], color='r')\n",
      "pl.plot(waves, [Planck(wave, 5200.) for wave in waves], color='g')"
     ],
     "language": "python",
     "metadata": {},
     "outputs": []
    }
   ],
   "metadata": {}
  }
 ]
}